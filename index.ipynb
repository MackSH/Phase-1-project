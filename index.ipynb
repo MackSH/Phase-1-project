{
 "cells": [
  {
   "cell_type": "markdown",
   "id": "0722819a",
   "metadata": {},
   "source": [
    "# Analyses des accidents d'avion (1962-2023)\n",
    "\n",
    "## Contexte métier\n",
    "\n",
    "Dans le cadre de sa stratégie de diversification, notre entreprise envisage d’entrer dans le secteur de l’aviation commerciale et privée. Elle souhaite acquérir une flotte d’avions afin de proposer des services de transport aérien. Toutefois, avant de lancer cette nouvelle activité, une étude des risques liés à l’exploitation aérienne est nécessaire.\n",
    "\n",
    "En particulier, la direction souhaite identifier **les modèles d’avions les plus sûrs**, sur la base d’un historique fiable d’incidents et d’accidents. Nous avons été mandaté pour mener cette analyse en utilisant un ensemble de données fourni par le **National Transportation Safety Board (NTSB)**, couvrant les accidents d’aviation civile entre **1962 et 2023**.\n",
    "\n",
    "Notre rôle est de :\n",
    "- Nettoyer et préparer les données ;\n",
    "- Identifier les types d’aéronefs les plus impliqués dans des accidents ;\n",
    "- Mettre en évidence les causes récurrentes d’accidents ;\n",
    "- Visualiser les données de manière claire et interactive ;\n",
    "- Fournir des **recommandations exploitables** à la division aéronautique pour orienter ses **choix d’acquisition**.\n",
    "\n",
    "Cette analyse permettra à l’entreprise de limiter les risques humains, financiers et opérationnels associés à cette nouvelle activité, tout en assurant un **niveau de sécurité optimal** pour ses futurs clients.\n"
   ]
  },
  {
   "cell_type": "markdown",
   "id": "96aa33d5",
   "metadata": {},
   "source": [
    "### Importation des librairies et une petite configuration de base pour l'affichage des graphes"
   ]
  },
  {
   "cell_type": "code",
   "execution_count": 39,
   "id": "3c538837",
   "metadata": {},
   "outputs": [],
   "source": [
    "# Data Manipulation\n",
    "import pandas as pd\n",
    "import numpy as np\n",
    "\n",
    "# Visualization\n",
    "import matplotlib.pyplot as plt\n",
    "import seaborn as sns\n",
    "\n",
    "# Configuration de base pour les graphiques\n",
    "sns.set_theme(style=\"whitegrid\")\n",
    "plt.rcParams[\"figure.figsize\"] = (12,6)"
   ]
  },
  {
   "cell_type": "markdown",
   "id": "36fb7b94",
   "metadata": {},
   "source": [
    "### Chargement des données"
   ]
  },
  {
   "cell_type": "code",
   "execution_count": 40,
   "id": "6fa51133",
   "metadata": {},
   "outputs": [
    {
     "name": "stderr",
     "output_type": "stream",
     "text": [
      "C:\\Users\\macke\\AppData\\Local\\Temp\\ipykernel_35412\\3613692280.py:1: DtypeWarning: Columns (6,7,28) have mixed types. Specify dtype option on import or set low_memory=False.\n",
      "  df = pd.read_csv('AviationData.csv', encoding='latin1')\n"
     ]
    }
   ],
   "source": [
    "df = pd.read_csv('AviationData.csv', encoding='latin1')\n",
    "df_uss_codes = pd.read_csv('USState_Codes.csv')"
   ]
  },
  {
   "cell_type": "markdown",
   "id": "59a4cd6d",
   "metadata": {},
   "source": [
    "### Fusionner les deux dataframes\n",
    "Dans ce processus la colonne `Location` du dataframe principale sera spliter pour donner deux nouvelles colonnes `Abbreviation` et `US_State`, de plus pour les location qui se trouvent en dehors des US seront remplies par **Outside US**"
   ]
  },
  {
   "cell_type": "code",
   "execution_count": null,
   "id": "8c8dc41e",
   "metadata": {},
   "outputs": [],
   "source": [
    "# Etape 1 : extraire l'abréviation dpuis la colonne 'Location'\n",
    "df['State_Abbrev'] = df['Location'].str.extract(r\",\\s*([A-Z]{2})$\")\n",
    "\n",
    "# Etape 2 : Melanger pour récupérer le nom complet de l'Etat\n",
    "df = df.merge(df_uss_codes, how='left', left_on='State_Abbrev', right_on='Abbreviation')\n",
    "\n",
    "# Etape 3 : remplacer les valeurs nulles par \"Outside US\"\n",
    "df['US_State'] = df['US_State'].fillna('Outside US')\n",
    "\n",
    "# Etape 4 : Supprimer la colonne State_Abbrev pour eviter le redondance des données\n",
    "df = df.drop('State_Abbrev', axis=1)"
   ]
  },
  {
   "cell_type": "markdown",
   "id": "8f1765c4",
   "metadata": {},
   "source": [
    "### Exploration initiale"
   ]
  },
  {
   "cell_type": "code",
   "execution_count": null,
   "id": "b6fe383e",
   "metadata": {},
   "outputs": [],
   "source": [
    "df.head()"
   ]
  },
  {
   "cell_type": "code",
   "execution_count": null,
   "id": "8779f28d",
   "metadata": {},
   "outputs": [],
   "source": [
    "df.info()"
   ]
  },
  {
   "cell_type": "code",
   "execution_count": null,
   "id": "8ee2ae2c",
   "metadata": {},
   "outputs": [],
   "source": [
    "df.describe(include=\"all\")"
   ]
  },
  {
   "cell_type": "code",
   "execution_count": null,
   "id": "6a932d0c",
   "metadata": {},
   "outputs": [],
   "source": [
    "df.isna().sum()"
   ]
  },
  {
   "cell_type": "markdown",
   "id": "d495bac8",
   "metadata": {},
   "source": [
    "### Netoyage des données\n",
    "\n",
    "Dans ce processus un nouveau dataframe sera crée appelé `df_clean` qui aura pour but comme sont nom l'indique de contenir les données exploitable pour notre analyse."
   ]
  },
  {
   "cell_type": "code",
   "execution_count": null,
   "id": "9d8b38f1",
   "metadata": {},
   "outputs": [],
   "source": []
  }
 ],
 "metadata": {
  "kernelspec": {
   "display_name": "formation",
   "language": "python",
   "name": "python3"
  },
  "language_info": {
   "codemirror_mode": {
    "name": "ipython",
    "version": 3
   },
   "file_extension": ".py",
   "mimetype": "text/x-python",
   "name": "python",
   "nbconvert_exporter": "python",
   "pygments_lexer": "ipython3",
   "version": "3.12.9"
  }
 },
 "nbformat": 4,
 "nbformat_minor": 5
}
