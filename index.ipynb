{
 "cells": [
  {
   "cell_type": "markdown",
   "id": "0722819a",
   "metadata": {},
   "source": [
    "# Analyses des accidents d'avion (1962-2023)\n",
    "\n",
    "## Contexte métier\n",
    "\n",
    "Dans le cadre de sa stratégie de diversification, notre entreprise envisage d’entrer dans le secteur de l’aviation commerciale et privée. Elle souhaite acquérir une flotte d’avions afin de proposer des services de transport aérien. Toutefois, avant de lancer cette nouvelle activité, une étude des risques liés à l’exploitation aérienne est nécessaire.\n",
    "\n",
    "En particulier, la direction souhaite identifier **les modèles d’avions les plus sûrs**, sur la base d’un historique fiable d’incidents et d’accidents. Nous avons été mandaté pour mener cette analyse en utilisant un ensemble de données fourni par le **National Transportation Safety Board (NTSB)**, couvrant les accidents d’aviation civile entre **1962 et 2023**.\n",
    "\n",
    "Notre rôle est de :\n",
    "- Nettoyer et préparer les données ;\n",
    "- Identifier les types d’aéronefs les plus impliqués dans des accidents ;\n",
    "- Mettre en évidence les causes récurrentes d’accidents ;\n",
    "- Visualiser les données de manière claire et interactive ;\n",
    "- Fournir des **recommandations exploitables** à la division aéronautique pour orienter ses **choix d’acquisition**.\n",
    "\n",
    "Cette analyse permettra à l’entreprise de limiter les risques humains, financiers et opérationnels associés à cette nouvelle activité, tout en assurant un **niveau de sécurité optimal** pour ses futurs clients.\n"
   ]
  }
 ],
 "metadata": {
  "language_info": {
   "name": "python"
  }
 },
 "nbformat": 4,
 "nbformat_minor": 5
}
